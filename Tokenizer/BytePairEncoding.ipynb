{
 "cells": [
  {
   "cell_type": "code",
   "execution_count": null,
   "id": "b6a4ea80",
   "metadata": {},
   "outputs": [],
   "source": [
    "## Problems with word-based tokenization:\n",
    "# 1. What do we do with Out of Vocab (OOV) words\n",
    "# 2. Different meaning of similar words ex: boy, boys are treated as separate tokens"
   ]
  },
  {
   "cell_type": "code",
   "execution_count": null,
   "id": "88a55752",
   "metadata": {},
   "outputs": [],
   "source": [
    "## Problems with character-based tokenization:\n",
    "# 1. Has a very small vocab, so solves the OOV problem\n",
    "# 2. Meaning associated with words is completely lost\n",
    "# 3. Tokenized sequence of IDs is much longer then the original text"
   ]
  },
  {
   "cell_type": "code",
   "execution_count": null,
   "id": "319fc2d5",
   "metadata": {},
   "outputs": [],
   "source": [
    "## BPE is Sub-word tokenization\n",
    "# Rule 1: Do not split frequently used words into smaller sub-words and represent them as a single token\n",
    "# Rule 2: Split rare words into smaller, meaningful sub-words (can even broken down to char level for very rare words)\n",
    "# 'boy' will not be split but 'boys' will be split into ['boy', 's']\n",
    "# Advantages:\n",
    "# 1. Helps model learn that different words with same root word are similar in meaning\n",
    "# 2. Words like 'tokenization' and 'modernization' have the same suffix 'ization' means the model understands they are used in same syntactic situations"
   ]
  },
  {
   "cell_type": "code",
   "execution_count": null,
   "id": "e3bde1f7",
   "metadata": {},
   "outputs": [],
   "source": [
    "## BPE is traditional compression algo where the most common pair of consecutive bytes is replaced with a byte that doesnt occur in the data. Same is done for the tokens\n",
    "# Start from character level tokens(and a special </w> token marking end of a word) and their counts and then combine most frequent occuring token pairs to create a new combined token and remove tokens when their count gets 0. This is done for fixed number of iterations or till we reach a desired number of tokens\n",
    "\n",
    "# https://www.youtube.com/watch?v=fKd8s29e-l4&list=PLPTV0NXA_ZSgsLAr8YCgCwhPIJNNtexWu&index=9"
   ]
  },
  {
   "cell_type": "code",
   "execution_count": 3,
   "id": "84e66958",
   "metadata": {},
   "outputs": [
    {
     "name": "stdout",
     "output_type": "stream",
     "text": [
      "tiktoken version: 0.9.0\n"
     ]
    }
   ],
   "source": [
    "import importlib\n",
    "import tiktoken\n",
    "\n",
    "print(\"tiktoken version:\", importlib.metadata.version(\"tiktoken\"))"
   ]
  },
  {
   "cell_type": "code",
   "execution_count": 4,
   "id": "fac64143",
   "metadata": {},
   "outputs": [
    {
     "data": {
      "text/plain": [
       "<Encoding 'gpt2'>"
      ]
     },
     "execution_count": 4,
     "metadata": {},
     "output_type": "execute_result"
    }
   ],
   "source": [
    "tokenizer = tiktoken.get_encoding(\"gpt2\")\n",
    "tokenizer"
   ]
  },
  {
   "cell_type": "code",
   "execution_count": null,
   "id": "46a82408",
   "metadata": {},
   "outputs": [
    {
     "name": "stdout",
     "output_type": "stream",
     "text": [
      "[15496, 11, 466, 345, 588, 8887, 30, 220, 50256, 554, 262, 4252, 18250, 8812, 2114, 1659, 617, 34680, 27271, 13]\n"
     ]
    }
   ],
   "source": [
    "text = (\n",
    "    \"Hello, do you like tea? <|endoftext|> In the sunlit terraces\"\n",
    "     \"of someunknownPlace.\"\n",
    ")\n",
    "\n",
    "# someunknownPlace will have been <unk> in word level, but in sub-word this is captured accuartely\n",
    "\n",
    "integers = tokenizer.encode(text, allowed_special={\"<|endoftext|>\"})\n",
    "\n",
    "print(integers)"
   ]
  },
  {
   "cell_type": "code",
   "execution_count": 6,
   "id": "0854787c",
   "metadata": {},
   "outputs": [
    {
     "name": "stdout",
     "output_type": "stream",
     "text": [
      "Hello, do you like tea? <|endoftext|> In the sunlit terracesof someunknownPlace.\n"
     ]
    }
   ],
   "source": [
    "strings = tokenizer.decode(integers)\n",
    "\n",
    "print(strings)"
   ]
  },
  {
   "cell_type": "code",
   "execution_count": 7,
   "id": "392d9412",
   "metadata": {},
   "outputs": [
    {
     "name": "stdout",
     "output_type": "stream",
     "text": [
      "[33901, 86, 343, 86, 220, 959]\n",
      "Akwirw ier\n"
     ]
    }
   ],
   "source": [
    "## For unknown tokens\n",
    "integers = tokenizer.encode(\"Akwirw ier\")\n",
    "print(integers)\n",
    "\n",
    "strings = tokenizer.decode(integers)\n",
    "print(strings)"
   ]
  }
 ],
 "metadata": {
  "kernelspec": {
   "display_name": "Python 3",
   "language": "python",
   "name": "python3"
  },
  "language_info": {
   "codemirror_mode": {
    "name": "ipython",
    "version": 3
   },
   "file_extension": ".py",
   "mimetype": "text/x-python",
   "name": "python",
   "nbconvert_exporter": "python",
   "pygments_lexer": "ipython3",
   "version": "3.12.5"
  }
 },
 "nbformat": 4,
 "nbformat_minor": 5
}
