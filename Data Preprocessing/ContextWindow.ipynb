{
 "cells": [
  {
   "cell_type": "code",
   "execution_count": 1,
   "id": "c1c584bc",
   "metadata": {},
   "outputs": [],
   "source": [
    "import importlib\n",
    "import tiktoken"
   ]
  },
  {
   "cell_type": "code",
   "execution_count": 2,
   "id": "3af35d2e",
   "metadata": {},
   "outputs": [],
   "source": [
    "tokenizer = tiktoken.get_encoding(\"gpt2\")"
   ]
  },
  {
   "cell_type": "code",
   "execution_count": 3,
   "id": "91cb0afe",
   "metadata": {},
   "outputs": [],
   "source": [
    "sample_text = \"\"\"The old wizard lived in a tall tower. Every morning he would wake up early and look out his window. \n",
    "    From his window he could see the entire village below. The village was small but busy. \n",
    "    People walked through the streets carrying baskets. The baskets were filled with fresh bread and fruit.\n",
    "    \n",
    "    One day the wizard noticed something strange. A large dragon was flying toward the village. \n",
    "    The dragon was enormous and had bright red scales. The wizard knew he had to act quickly.\n",
    "    He grabbed his magic wand from the wooden table. The wand was old but very powerful.\n",
    "    \n",
    "    The wizard pointed the wand at the dragon and spoke a magic spell. The spell created a bright light.\n",
    "    The light surrounded the dragon and made it disappear. The village was safe once again.\n",
    "    The people in the village cheered and thanked the brave wizard.\n",
    "    \n",
    "    After the adventure the wizard returned to his tower. He was tired but happy. \n",
    "    He had protected the village and its people. The wizard knew that tomorrow might bring new challenges.\n",
    "    But for now he could rest peacefully in his tall tower.\"\"\""
   ]
  },
  {
   "cell_type": "code",
   "execution_count": 6,
   "id": "3fc6815a",
   "metadata": {},
   "outputs": [
    {
     "name": "stdout",
     "output_type": "stream",
     "text": [
      "[464, 1468, 18731, 5615, 287, 257, 7331, 10580, 13, 3887]\n",
      "257\n"
     ]
    }
   ],
   "source": [
    "enc_text = tokenizer.encode(sample_text)\n",
    "\n",
    "print(enc_text[:10])\n",
    "vocab_size = len(enc_text)\n",
    "print(vocab_size)"
   ]
  },
  {
   "cell_type": "code",
   "execution_count": 7,
   "id": "73bf8652",
   "metadata": {},
   "outputs": [],
   "source": [
    "context_size = 4"
   ]
  },
  {
   "cell_type": "code",
   "execution_count": null,
   "id": "a2a71a6c",
   "metadata": {},
   "outputs": [
    {
     "name": "stdout",
     "output_type": "stream",
     "text": [
      "x: [464, 1468, 18731, 5615]\n",
      "y:      [1468, 18731, 5615, 287]\n"
     ]
    }
   ],
   "source": [
    "#The context_size of 4 means that the model is trained to look at a sequence of 4 words (or tokens) \n",
    "#to predict the next word in the sequence. \n",
    "#The input x is the first 4 tokens [1, 2, 3, 4], and the target y is the next 4 tokens [2, 3, 4, 5]\n",
    "\n",
    "x = enc_text[:context_size] # Input\n",
    "y = enc_text[1:context_size+1] # Target\n",
    "\n",
    "print(f\"x: {x}\")\n",
    "print(f\"y:      {y}\")\n",
    "\n"
   ]
  },
  {
   "cell_type": "code",
   "execution_count": 9,
   "id": "017dbf19",
   "metadata": {},
   "outputs": [
    {
     "name": "stdout",
     "output_type": "stream",
     "text": [
      "[464] ----> 1468\n",
      "[464, 1468] ----> 18731\n",
      "[464, 1468, 18731] ----> 5615\n",
      "[464, 1468, 18731, 5615] ----> 287\n"
     ]
    }
   ],
   "source": [
    "# The target for 1 is 2, [1, 2] is 3, [1, 2, 3] is 4, [1, 2, 3, 4] is 5\n",
    "\n",
    "for i in range(1, context_size+1):\n",
    "    context = enc_text[:i]\n",
    "    desired = enc_text[i]\n",
    "\n",
    "    print(context, \"---->\", desired)"
   ]
  },
  {
   "cell_type": "code",
   "execution_count": null,
   "id": "cf3db10a",
   "metadata": {},
   "outputs": [
    {
     "name": "stdout",
     "output_type": "stream",
     "text": [
      "The ---->  old\n",
      "The old ---->  wizard\n",
      "The old wizard ---->  lived\n",
      "The old wizard lived ---->  in\n"
     ]
    }
   ],
   "source": [
    "for i in range(1, context_size+1):\n",
    "    context = enc_text[:i]\n",
    "    desired = enc_text[i] \n",
    "\n",
    "    print(tokenizer.decode(context), \"---->\", tokenizer.decode([desired]))"
   ]
  },
  {
   "cell_type": "code",
   "execution_count": null,
   "id": "6dcbc832",
   "metadata": {},
   "outputs": [],
   "source": []
  }
 ],
 "metadata": {
  "kernelspec": {
   "display_name": "Python 3",
   "language": "python",
   "name": "python3"
  },
  "language_info": {
   "codemirror_mode": {
    "name": "ipython",
    "version": 3
   },
   "file_extension": ".py",
   "mimetype": "text/x-python",
   "name": "python",
   "nbconvert_exporter": "python",
   "pygments_lexer": "ipython3",
   "version": "3.12.5"
  }
 },
 "nbformat": 4,
 "nbformat_minor": 5
}
