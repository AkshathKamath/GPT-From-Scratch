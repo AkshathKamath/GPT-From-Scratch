{
 "cells": [
  {
   "cell_type": "code",
   "execution_count": null,
   "id": "a4db8fdf",
   "metadata": {},
   "outputs": [],
   "source": [
    "## Embedding to capture positional data of the token in the sequence improving contextual knowledge for LLM\n",
    "## Without this, the same token appearing at different places in the sentence will have the same vector"
   ]
  },
  {
   "cell_type": "code",
   "execution_count": null,
   "id": "a71bccf8",
   "metadata": {},
   "outputs": [],
   "source": [
    "## 1. Absolute: For each position in the input, a unique embedding is added to the token embedding to convey its location. The positional embedding has the same dimension as the token embedding. So input embedding. = token embedding + positional embedding\n",
    "\n",
    "## 2. Relative: Emphasis is on relative positioning/distance of the tokens. The model learns 'how far apart' the tokens are rather than the exact position. So the advantage is the model can generalize to varying sequence lengths."
   ]
  },
  {
   "cell_type": "code",
   "execution_count": 2,
   "id": "de5deab8",
   "metadata": {},
   "outputs": [],
   "source": [
    "## The positional embeddings are also optimized during training with backprop"
   ]
  },
  {
   "cell_type": "code",
   "execution_count": null,
   "id": "848f021f",
   "metadata": {},
   "outputs": [],
   "source": [
    "## Sample vocab size and embedding dimension d\n",
    "vocab_size = 50257 # Size of tiktoken vocab\n",
    "output_dim = 256"
   ]
  },
  {
   "cell_type": "code",
   "execution_count": 5,
   "id": "1e28c011",
   "metadata": {},
   "outputs": [
    {
     "data": {
      "text/plain": [
       "Embedding(50257, 256)"
      ]
     },
     "execution_count": 5,
     "metadata": {},
     "output_type": "execute_result"
    }
   ],
   "source": [
    "import torch\n",
    "\n",
    "token_embedding_layer = torch.nn.Embedding(vocab_size, output_dim)\n",
    "token_embedding_layer"
   ]
  },
  {
   "cell_type": "code",
   "execution_count": 6,
   "id": "ee8e1bde",
   "metadata": {},
   "outputs": [],
   "source": [
    "sample_text = \"\"\"The old wizard lived in a tall tower. Every morning he would wake up early and look out his window. \n",
    "    From his window he could see the entire village below. The village was small but busy. \n",
    "    People walked through the streets carrying baskets. The baskets were filled with fresh bread and fruit.\n",
    "    \n",
    "    One day the wizard noticed something strange. A large dragon was flying toward the village. \n",
    "    The dragon was enormous and had bright red scales. The wizard knew he had to act quickly.\n",
    "    He grabbed his magic wand from the wooden table. The wand was old but very powerful.\n",
    "    \n",
    "    The wizard pointed the wand at the dragon and spoke a magic spell. The spell created a bright light.\n",
    "    The light surrounded the dragon and made it disappear. The village was safe once again.\n",
    "    The people in the village cheered and thanked the brave wizard.\n",
    "    \n",
    "    After the adventure the wizard returned to his tower. He was tired but happy. \n",
    "    He had protected the village and its people. The wizard knew that tomorrow might bring new challenges.\n",
    "    But for now he could rest peacefully in his tall tower.\"\"\""
   ]
  },
  {
   "cell_type": "code",
   "execution_count": null,
   "id": "1672b6ee",
   "metadata": {},
   "outputs": [],
   "source": [
    "import torch\n",
    "from torch.utils.data import Dataset, DataLoader\n",
    "\n",
    "## Taken from Data Preprocessing directory\n",
    "class TextDataset(Dataset):\n",
    "    def __init__(self, txt, tokenizer, max_length, stride):\n",
    "        self.input_ids = []\n",
    "        self.target_ids = [] \n",
    "\n",
    "        token_ids = tokenizer.encode(txt, allowed_special={\"<|endoftext|>\"})\n",
    "\n",
    "        for i in range(0, len(token_ids) - max_length, stride):\n",
    "            input_chunk = token_ids[i:i + max_length]\n",
    "            target_chunk = token_ids[i + 1: i + max_length + 1]\n",
    "            self.input_ids.append(torch.tensor(input_chunk))\n",
    "            self.target_ids.append(torch.tensor(target_chunk))\n",
    "\n",
    "    def __len__(self):\n",
    "        return len(self.input_ids)\n",
    "\n",
    "    def __getitem__(self, idx):\n",
    "        return self.input_ids[idx], self.target_ids[idx]"
   ]
  },
  {
   "cell_type": "code",
   "execution_count": null,
   "id": "c32b4a33",
   "metadata": {},
   "outputs": [],
   "source": [
    "import tiktoken\n",
    "\n",
    "## Taken from Data Preprocessing directory\n",
    "def create_dataloader_v1(txt, batch_size=4, max_length=256, \n",
    "                         stride=128, shuffle=True, drop_last=True,\n",
    "                         num_workers=0):\n",
    "\n",
    "    tokenizer = tiktoken.get_encoding(\"gpt2\")\n",
    "\n",
    "    dataset = TextDataset(txt, tokenizer, max_length, stride)\n",
    "\n",
    "    dataloader = DataLoader(\n",
    "        dataset,\n",
    "        batch_size=batch_size, \n",
    "        shuffle=shuffle,\n",
    "        drop_last=drop_last,\n",
    "        num_workers=num_workers\n",
    "    )\n",
    "\n",
    "    return dataloader"
   ]
  },
  {
   "cell_type": "code",
   "execution_count": 11,
   "id": "ccd5ac96",
   "metadata": {},
   "outputs": [
    {
     "name": "stdout",
     "output_type": "stream",
     "text": [
      "Token IDs:\n",
      " tensor([[  464,  1468, 18731,  5615],\n",
      "        [  287,   257,  7331, 10580],\n",
      "        [   13,  3887,  3329,   339],\n",
      "        [  561,  7765,   510,  1903],\n",
      "        [  290,   804,   503,   465],\n",
      "        [ 4324,    13,   220,   198],\n",
      "        [  220,   220,   220,  3574],\n",
      "        [  465,  4324,   339,   714]])\n",
      "\n",
      "Inputs shape:\n",
      " torch.Size([8, 4])\n"
     ]
    }
   ],
   "source": [
    "## Using a batch size of 8 and context window of 4 from the dataloader, the input size after embedding will be 8 x 4 x 256 (b x n x d)\n",
    "max_length = 4\n",
    "dataloader = create_dataloader_v1(\n",
    "    sample_text, batch_size=8, max_length=max_length,\n",
    "    stride=max_length, shuffle=False\n",
    ")\n",
    "data_iter = iter(dataloader)\n",
    "inputs, targets = next(data_iter)\n",
    "\n",
    "print(\"Token IDs:\\n\", inputs)\n",
    "print(\"\\nInputs shape:\\n\", inputs.shape)"
   ]
  },
  {
   "cell_type": "code",
   "execution_count": 12,
   "id": "259c38b5",
   "metadata": {},
   "outputs": [
    {
     "name": "stdout",
     "output_type": "stream",
     "text": [
      "torch.Size([8, 4, 256])\n"
     ]
    }
   ],
   "source": [
    "## Converting token IDs in the input to embeddings\n",
    "token_embeddings = token_embedding_layer(inputs)\n",
    "print(token_embeddings.shape)"
   ]
  },
  {
   "cell_type": "code",
   "execution_count": null,
   "id": "91149d49",
   "metadata": {},
   "outputs": [
    {
     "data": {
      "text/plain": [
       "Embedding(4, 256)"
      ]
     },
     "execution_count": 13,
     "metadata": {},
     "output_type": "execute_result"
    }
   ],
   "source": [
    "## For absolute positional encoding, we create a positional embedding of same dimension d as the token embedding\n",
    "## Since the context size is 4, the input will have a maximum of 4 tokens, so we need to encode only these 4 positions so shape is context size x d\n",
    "context_length = max_length\n",
    "pos_embedding_layer = torch.nn.Embedding(context_length, output_dim)\n",
    "pos_embedding_layer"
   ]
  },
  {
   "cell_type": "code",
   "execution_count": 14,
   "id": "eedc0cbe",
   "metadata": {},
   "outputs": [
    {
     "name": "stdout",
     "output_type": "stream",
     "text": [
      "torch.Size([4, 256])\n"
     ]
    }
   ],
   "source": [
    "## Getting the embeddings from the matrix by looking up each of the positions from 0 to context size\n",
    "pos_embeddings = pos_embedding_layer(torch.arange(max_length))\n",
    "print(pos_embeddings.shape)"
   ]
  },
  {
   "cell_type": "code",
   "execution_count": 15,
   "id": "3ef8de19",
   "metadata": {},
   "outputs": [
    {
     "name": "stdout",
     "output_type": "stream",
     "text": [
      "torch.Size([8, 4, 256])\n"
     ]
    }
   ],
   "source": [
    "## These positional embeddings need to be added to every input in the batch\n",
    "input_embeddings = token_embeddings + pos_embeddings # Broadcasting\n",
    "print(input_embeddings.shape)"
   ]
  }
 ],
 "metadata": {
  "kernelspec": {
   "display_name": "Python 3",
   "language": "python",
   "name": "python3"
  },
  "language_info": {
   "codemirror_mode": {
    "name": "ipython",
    "version": 3
   },
   "file_extension": ".py",
   "mimetype": "text/x-python",
   "name": "python",
   "nbconvert_exporter": "python",
   "pygments_lexer": "ipython3",
   "version": "3.12.5"
  }
 },
 "nbformat": 4,
 "nbformat_minor": 5
}
