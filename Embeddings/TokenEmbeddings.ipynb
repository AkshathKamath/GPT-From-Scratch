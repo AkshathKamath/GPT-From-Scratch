{
 "cells": [
  {
   "cell_type": "code",
   "execution_count": null,
   "id": "2ece09b8",
   "metadata": {},
   "outputs": [],
   "source": [
    "## Representing tokens as vectors such that semantic meaning is captured (similar meaning words have similar vectors)\n",
    "## Done via training\n"
   ]
  },
  {
   "cell_type": "code",
   "execution_count": 2,
   "id": "82f60b5c",
   "metadata": {},
   "outputs": [],
   "source": [
    "## Pretrained token embeddings like Word2vec, Glove\n",
    "## LLMs dont use pretrained embeddings, but rather learn the token embeddings as part of their training along with learning the model weights"
   ]
  },
  {
   "cell_type": "code",
   "execution_count": null,
   "id": "6424e8d8",
   "metadata": {},
   "outputs": [],
   "source": [
    "## Embedding layer weight Matrix of shape vocab size x embedding dimension (d) where every token ID is mapped to a vector of dimension d\n",
    "## The embedding layer weight matrix is initialized randomly and then optimized with backprop in training\n"
   ]
  },
  {
   "cell_type": "code",
   "execution_count": null,
   "id": "5da063ba",
   "metadata": {},
   "outputs": [
    {
     "name": "stdout",
     "output_type": "stream",
     "text": [
      "tensor([2, 3, 5, 1])\n"
     ]
    }
   ],
   "source": [
    "import torch\n",
    "\n",
    "input_ids = torch.tensor([2, 3, 5, 1]) ## Token IDs as input\n",
    "print(input_ids)"
   ]
  },
  {
   "cell_type": "code",
   "execution_count": 6,
   "id": "38194b96",
   "metadata": {},
   "outputs": [
    {
     "name": "stdout",
     "output_type": "stream",
     "text": [
      "Embedding(6, 3)\n",
      "Parameter containing:\n",
      "tensor([[ 0.3374, -0.1778, -0.1690],\n",
      "        [ 0.9178,  1.5810,  1.3010],\n",
      "        [ 1.2753, -0.2010, -0.1606],\n",
      "        [-0.4015,  0.9666, -1.1481],\n",
      "        [-1.1589,  0.3255, -0.6315],\n",
      "        [-2.8400, -0.7849, -1.4096]], requires_grad=True)\n"
     ]
    }
   ],
   "source": [
    "## Sample vocab size and d\n",
    "vocab_size = 6\n",
    "output_dim = 3\n",
    "\n",
    "torch.manual_seed(123)\n",
    "embedding_layer = torch.nn.Embedding(vocab_size, output_dim) # Random initialization of the embedding matri\n",
    "\n",
    "print(embedding_layer)\n",
    "print(embedding_layer.weight)"
   ]
  },
  {
   "cell_type": "code",
   "execution_count": null,
   "id": "a2b1067a",
   "metadata": {},
   "outputs": [
    {
     "name": "stdout",
     "output_type": "stream",
     "text": [
      "tensor([[-0.4015,  0.9666, -1.1481]], grad_fn=<EmbeddingBackward0>)\n"
     ]
    }
   ],
   "source": [
    "## Lookup\n",
    "print(embedding_layer(torch.tensor([3]))) ## Vector for token ID 3"
   ]
  },
  {
   "cell_type": "code",
   "execution_count": null,
   "id": "211c36ed",
   "metadata": {},
   "outputs": [
    {
     "name": "stdout",
     "output_type": "stream",
     "text": [
      "tensor([[ 1.2753, -0.2010, -0.1606],\n",
      "        [-0.4015,  0.9666, -1.1481],\n",
      "        [-2.8400, -0.7849, -1.4096],\n",
      "        [ 0.9178,  1.5810,  1.3010]], grad_fn=<EmbeddingBackward0>)\n"
     ]
    }
   ],
   "source": [
    "print(embedding_layer(input_ids)) ## Embeddings for our sequence of token IDs of shape seq length x d"
   ]
  }
 ],
 "metadata": {
  "kernelspec": {
   "display_name": "Python 3",
   "language": "python",
   "name": "python3"
  },
  "language_info": {
   "codemirror_mode": {
    "name": "ipython",
    "version": 3
   },
   "file_extension": ".py",
   "mimetype": "text/x-python",
   "name": "python",
   "nbconvert_exporter": "python",
   "pygments_lexer": "ipython3",
   "version": "3.12.5"
  }
 },
 "nbformat": 4,
 "nbformat_minor": 5
}
