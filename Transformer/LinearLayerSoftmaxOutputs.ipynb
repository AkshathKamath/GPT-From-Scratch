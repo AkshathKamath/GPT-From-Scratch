{
 "cells": [
  {
   "cell_type": "code",
   "execution_count": 1,
   "id": "b1307d8d",
   "metadata": {},
   "outputs": [],
   "source": [
    "import torch\n",
    "import torch.nn as nn\n",
    "import torch.nn.functional as F"
   ]
  },
  {
   "cell_type": "code",
   "execution_count": 2,
   "id": "82d05e02",
   "metadata": {},
   "outputs": [],
   "source": [
    "## Implemented using the Attention notebooks in the Attention directory\n",
    "\n",
    "def selfAttention(input_embeddings, W_q, W_k, W_v, W_o):\n",
    "    n = input_embeddings.shape[0]\n",
    "    d_model = input_embeddings.shape[1]\n",
    "    d_k = W_q.shape[1]\n",
    "\n",
    "    Q = torch.matmul(input_embeddings, W_q)\n",
    "    K = torch.matmul(input_embeddings, W_k)\n",
    "    V = torch.matmul(input_embeddings, W_v)\n",
    "\n",
    "    mask  = torch.tril(torch.ones(n, n))\n",
    "\n",
    "    attention_scores = torch.matmul(Q, K.T)\n",
    "    masked_attention_scores = attention_scores.masked_fill(mask == 0, float('-inf'))\n",
    "    masked_attention_scores /= torch.sqrt(torch.tensor(d_k, dtype=torch.float32))\n",
    "\n",
    "    attention_weights = F.softmax(masked_attention_scores, dim=-1)\n",
    "    output = torch.matmul(attention_weights, V)\n",
    "    final_output = torch.matmul(output, W_o)\n",
    "\n",
    "    return final_output"
   ]
  },
  {
   "cell_type": "code",
   "execution_count": 3,
   "id": "30527c34",
   "metadata": {},
   "outputs": [],
   "source": [
    "## Implemented using the LayerNorm notebook in the LayerNorm directory\n",
    "def residualPlusLayerNorm(attention_output, input_embeddings, gamma, beta, eps = 1e-5,):\n",
    "    residual_output = attention_output + input_embeddings\n",
    "\n",
    "    means = torch.mean(residual_output, dim=-1, keepdim=True) # Shape (n, 1)\n",
    "    variances = torch.var(residual_output, dim=-1, keepdim=True, unbiased=False) # Shape (n, 1)\n",
    "    normalized = (residual_output - means) / torch.sqrt(variances + eps) # Shape (n, d)\n",
    "\n",
    "    ln_output = normalized * gamma + beta\n",
    "    return ln_output"
   ]
  },
  {
   "cell_type": "code",
   "execution_count": 5,
   "id": "aaee10e1",
   "metadata": {},
   "outputs": [],
   "source": [
    "## Implemented using the FeedForwardNetwork notebook in the Transformer directory\n",
    "def feedForwardNetwork(layernorm_output, W_ff1, b_ff1, W_ff2, b_ff2):\n",
    "    ffn_layer1 = torch.matmul(layernorm_output, W_ff1) + b_ff1 \n",
    "    ffn_layer1_activated = F.relu(ffn_layer1)\n",
    "\n",
    "    ffn_layer2 = torch.matmul(ffn_layer1_activated, W_ff2) + b_ff2\n",
    "    return ffn_layer2"
   ]
  },
  {
   "cell_type": "code",
   "execution_count": 6,
   "id": "92a87c9f",
   "metadata": {},
   "outputs": [
    {
     "name": "stdout",
     "output_type": "stream",
     "text": [
      "Tokenized sentence: ['The', 'quick', 'brown', 'fox', 'jumps', 'over', 'the', 'lazy', 'dog']\n",
      "Number of tokens: 9\n"
     ]
    }
   ],
   "source": [
    "sentence = \"The quick brown fox jumps over the lazy dog\"\n",
    "\n",
    "## Simple tokenization by splitting on spaces, ideally more complex tokenization would be used like BPE or WordPiece\n",
    "sentence = sentence.split()\n",
    "n = len(sentence)\n",
    "\n",
    "print(f\"Tokenized sentence: {sentence}\")\n",
    "print(f\"Number of tokens: {len(sentence)}\")"
   ]
  },
  {
   "cell_type": "code",
   "execution_count": 7,
   "id": "f4eb2aef",
   "metadata": {},
   "outputs": [
    {
     "name": "stdout",
     "output_type": "stream",
     "text": [
      "Vocabulary size: 23\n",
      "Vocabulary: ['<PAD>', '<START>', '<END>', '<UNK>', 'The', 'quick', 'brown', 'fox', 'jumps', 'over', 'the', 'lazy', 'dog', 'cat', 'runs', 'fast', 'slowly', 'and', 'a', 'is', 'are', 'was', 'were']\n"
     ]
    }
   ],
   "source": [
    "## Sample vocabulary, ideally this would be a much larger vocabulary\n",
    "vocab = [\"<PAD>\", \"<START>\", \"<END>\", \"<UNK>\"] + sentence + [\"cat\", \"runs\", \"fast\", \"slowly\", \"and\", \"the\", \"a\", \"is\", \"are\", \"was\", \"were\"]\n",
    "\n",
    "vocab = list(dict.fromkeys(vocab)) # Remove duplicates\n",
    "vocab_size = len(vocab)\n",
    "\n",
    "print(f\"Vocabulary size: {vocab_size}\")\n",
    "print(f\"Vocabulary: {vocab}\")"
   ]
  },
  {
   "cell_type": "code",
   "execution_count": 9,
   "id": "702f9e43",
   "metadata": {},
   "outputs": [
    {
     "name": "stdout",
     "output_type": "stream",
     "text": [
      "Word to index mapping: {'<PAD>': 0, '<START>': 1, '<END>': 2, '<UNK>': 3, 'The': 4, 'quick': 5, 'brown': 6, 'fox': 7, 'jumps': 8, 'over': 9, 'the': 10, 'lazy': 11, 'dog': 12, 'cat': 13, 'runs': 14, 'fast': 15, 'slowly': 16, 'and': 17, 'a': 18, 'is': 19, 'are': 20, 'was': 21, 'were': 22}\n",
      "Index to word mapping: {0: '<PAD>', 1: '<START>', 2: '<END>', 3: '<UNK>', 4: 'The', 5: 'quick', 6: 'brown', 7: 'fox', 8: 'jumps', 9: 'over', 10: 'the', 11: 'lazy', 12: 'dog', 13: 'cat', 14: 'runs', 15: 'fast', 16: 'slowly', 17: 'and', 18: 'a', 19: 'is', 20: 'are', 21: 'was', 22: 'were'}\n"
     ]
    }
   ],
   "source": [
    "## Creatinga a word to index and index to word mapping to represent text as integers\n",
    "word_to_idx = {word: idx for idx, word in enumerate(vocab)}\n",
    "idx_to_word = {idx: word for word, idx in word_to_idx.items()}\n",
    "\n",
    "print(f\"Word to index mapping: {word_to_idx}\")\n",
    "print(f\"Index to word mapping: {idx_to_word}\")"
   ]
  },
  {
   "cell_type": "code",
   "execution_count": 10,
   "id": "97002c22",
   "metadata": {},
   "outputs": [
    {
     "name": "stdout",
     "output_type": "stream",
     "text": [
      "Input indices: [4, 5, 6, 7, 8, 9, 10, 11, 12]\n"
     ]
    }
   ],
   "source": [
    "## Convert the sentence to a list of indices\n",
    "input_indices = [word_to_idx[word] for word in sentence]\n",
    "\n",
    "print(f\"Input indices: {input_indices}\")"
   ]
  },
  {
   "cell_type": "code",
   "execution_count": 11,
   "id": "715d1983",
   "metadata": {},
   "outputs": [],
   "source": [
    "d_model = 8      # embedding dimension\n",
    "d_k = 6          # attention dimension\n",
    "hidden_dim = 16  # feed forward network hidden dimension"
   ]
  },
  {
   "cell_type": "code",
   "execution_count": null,
   "id": "d750a754",
   "metadata": {},
   "outputs": [
    {
     "name": "stdout",
     "output_type": "stream",
     "text": [
      "Embedding matrix shape: torch.Size([23, 8])\n",
      "Embedding matrix: tensor([[ 5.7807e-01,  4.4619e-01,  2.7022e-01, -6.3166e-01,  2.0353e-01,\n",
      "         -3.7036e-01, -1.2920e-02, -4.8140e-01],\n",
      "        [-2.2564e-01,  4.9462e-01, -1.1774e-01, -4.2108e-01, -2.1836e-01,\n",
      "         -1.6783e-01, -2.3065e-01,  2.2873e-01],\n",
      "        [ 4.9270e-01, -4.7879e-02, -1.4922e-01,  1.3188e-01, -2.2744e-01,\n",
      "          3.2350e-01,  2.4024e-01,  5.0419e-01],\n",
      "        [ 3.8374e-01,  3.8893e-01,  1.8314e-01,  4.0042e-01, -6.9487e-02,\n",
      "          1.2528e-02, -7.5473e-02,  2.5796e-01],\n",
      "        [-4.1540e-01, -2.6137e-01, -6.7010e-02,  5.1521e-01,  9.5664e-02,\n",
      "         -1.2736e-01,  9.1716e-02, -2.3238e-01],\n",
      "        [-4.6727e-01,  2.9869e-01, -2.6394e-01, -1.8034e-01, -3.8225e-01,\n",
      "          6.3684e-01, -3.7040e-01, -1.4637e-01],\n",
      "        [-2.7415e-01, -1.9744e-01,  2.3407e-02,  1.5774e-01, -1.4640e-01,\n",
      "          3.5741e-01, -2.4420e-01, -2.2080e-01],\n",
      "        [-4.2097e-01,  1.0801e-02, -1.9043e-02,  2.0268e-01, -2.9342e-02,\n",
      "          5.5338e-01, -3.5536e-01,  4.1506e-01],\n",
      "        [ 4.3354e-01,  2.5692e-01,  6.6542e-01,  1.5695e-01,  1.0399e-01,\n",
      "         -5.9199e-02, -3.1638e-01,  3.8340e-01],\n",
      "        [-5.1657e-02,  1.5714e-01,  1.6987e-02,  1.2789e-01,  1.7250e-01,\n",
      "         -1.9252e-01, -6.6192e-01, -2.2524e-01],\n",
      "        [ 3.2604e-03, -1.0162e-01, -4.0220e-01, -1.7561e-01,  1.6086e-01,\n",
      "          1.5739e-01,  3.4236e-01,  1.5493e-02],\n",
      "        [ 2.2319e-01, -1.4448e-01, -3.1484e-01,  1.8117e-01, -5.1669e-01,\n",
      "         -2.4833e-01,  4.0041e-01,  1.4506e-01],\n",
      "        [-7.5286e-01,  1.4640e-01,  2.3538e-01,  8.5942e-03,  1.9223e-01,\n",
      "          1.7497e-01,  3.2008e-01, -1.3505e-01],\n",
      "        [-5.5580e-02,  2.2583e-01,  1.2143e-01,  5.3540e-02,  7.9473e-02,\n",
      "          3.8195e-01, -3.9326e-04, -9.1081e-02],\n",
      "        [-4.3711e-01, -3.0701e-02, -1.7975e-01,  1.4312e-01,  2.1785e-01,\n",
      "          2.7346e-02, -1.1672e-01,  1.5837e-01],\n",
      "        [-3.8056e-03,  7.2251e-02,  3.9761e-02,  2.2927e-01,  3.2850e-01,\n",
      "          1.0197e-01,  2.1599e-01,  1.2342e-01],\n",
      "        [ 5.7935e-01,  3.0356e-01, -4.3092e-01, -3.3896e-01, -4.0810e-02,\n",
      "          4.9062e-01,  1.9642e-01,  1.7280e-01],\n",
      "        [ 3.4245e-01,  5.5694e-03, -5.4174e-01,  2.7763e-01, -1.1260e-01,\n",
      "          3.0993e-01, -2.0600e-01,  1.9104e-01],\n",
      "        [-2.9180e-01,  2.8754e-01,  4.8576e-01,  4.3518e-01,  8.0844e-02,\n",
      "         -6.3113e-02, -2.1984e-01,  3.1289e-02],\n",
      "        [ 1.0463e-01,  2.9028e-01, -1.3971e-01,  4.8144e-01, -7.4404e-01,\n",
      "         -1.2526e-01, -3.5864e-01,  2.4370e-01],\n",
      "        [-5.7017e-01,  6.8573e-02,  7.4578e-03, -1.0379e-01,  8.6050e-02,\n",
      "         -2.1925e-01,  5.2446e-02, -3.2818e-01],\n",
      "        [ 2.1496e-01,  4.6004e-01, -4.3529e-01, -2.3584e-01, -2.8689e-01,\n",
      "         -3.7428e-01, -2.2498e-01, -1.7766e-01],\n",
      "        [-4.5979e-01, -2.1754e-01,  1.3992e-01,  2.0002e-01, -1.3161e-02,\n",
      "          7.1042e-02, -2.1182e-01, -2.1507e-01]])\n"
     ]
    }
   ],
   "source": [
    "## Sample embedding matrix, ideally this would be learned during training or loaded from a pre-trained model\n",
    "torch.manual_seed(42)\n",
    "embedding_matrix = torch.randn(vocab_size, d_model) * 0.3 # Shape (vocab_size, d_model) i.e. for every token in the vocab, we have a d_model dimensional embedding\n",
    "\n",
    "print(f\"Embedding matrix shape: {embedding_matrix.shape}\")\n",
    "print(f\"Embedding matrix: {embedding_matrix}\")\n"
   ]
  },
  {
   "cell_type": "code",
   "execution_count": 13,
   "id": "4a7cfb6f",
   "metadata": {},
   "outputs": [
    {
     "name": "stdout",
     "output_type": "stream",
     "text": [
      "Input embeddings shape: torch.Size([9, 8])\n",
      "Input embeddings: tensor([[-0.4154, -0.2614, -0.0670,  0.5152,  0.0957, -0.1274,  0.0917, -0.2324],\n",
      "        [-0.4673,  0.2987, -0.2639, -0.1803, -0.3822,  0.6368, -0.3704, -0.1464],\n",
      "        [-0.2741, -0.1974,  0.0234,  0.1577, -0.1464,  0.3574, -0.2442, -0.2208],\n",
      "        [-0.4210,  0.0108, -0.0190,  0.2027, -0.0293,  0.5534, -0.3554,  0.4151],\n",
      "        [ 0.4335,  0.2569,  0.6654,  0.1569,  0.1040, -0.0592, -0.3164,  0.3834],\n",
      "        [-0.0517,  0.1571,  0.0170,  0.1279,  0.1725, -0.1925, -0.6619, -0.2252],\n",
      "        [ 0.0033, -0.1016, -0.4022, -0.1756,  0.1609,  0.1574,  0.3424,  0.0155],\n",
      "        [ 0.2232, -0.1445, -0.3148,  0.1812, -0.5167, -0.2483,  0.4004,  0.1451],\n",
      "        [-0.7529,  0.1464,  0.2354,  0.0086,  0.1922,  0.1750,  0.3201, -0.1350]])\n"
     ]
    }
   ],
   "source": [
    "## Using the embedding matrix to convert input indices to embeddings\n",
    "input_embeddings = embedding_matrix[input_indices]\n",
    "\n",
    "print(f\"Input embeddings shape: {input_embeddings.shape}\")\n",
    "print(f\"Input embeddings: {input_embeddings}\")"
   ]
  },
  {
   "cell_type": "code",
   "execution_count": 14,
   "id": "de87a459",
   "metadata": {},
   "outputs": [
    {
     "name": "stdout",
     "output_type": "stream",
     "text": [
      "Input embeddings with positional encoding shape: torch.Size([9, 8])\n",
      "Input embeddings with positional encoding: tensor([[-0.4473, -0.3464,  0.1218,  0.4782,  0.3078, -0.0857, -0.0239, -0.1673],\n",
      "        [-0.4149,  0.1467, -0.6732, -0.4862, -0.3013,  0.7632, -0.3079, -0.1531],\n",
      "        [-0.0135, -0.0999,  0.2502,  0.0866, -0.0740,  0.7573, -0.1116, -0.0799],\n",
      "        [-0.4167, -0.1551, -0.2352,  0.0459,  0.0721,  0.5698, -0.2666,  0.2703],\n",
      "        [ 0.3413,  0.2441,  0.3921,  0.2229, -0.0925,  0.0012, -0.2806,  0.3575],\n",
      "        [-0.3667,  0.6073,  0.2172,  0.4007,  0.2992, -0.1115, -0.5936, -0.2695],\n",
      "        [ 0.0378,  0.1086, -0.4007, -0.1911,  0.2894,  0.2722,  0.4597,  0.0117],\n",
      "        [-0.0527, -0.0193, -0.8318,  0.1764, -0.5411, -0.3977,  0.7423,  0.1566],\n",
      "        [-0.5143,  0.5339,  0.3811,  0.2048,  0.2751,  0.4063,  0.3739, -0.1424]])\n"
     ]
    }
   ],
   "source": [
    "## Sample positional embeddings, ideally these would be learned during training\n",
    "positional_embeddings = torch.randn(n, d_model) * 0.2\n",
    "input_embeddings = input_embeddings + positional_embeddings\n",
    "\n",
    "print(f\"Input embeddings with positional encoding shape: {input_embeddings.shape}\")\n",
    "print(f\"Input embeddings with positional encoding: {input_embeddings}\")"
   ]
  },
  {
   "cell_type": "code",
   "execution_count": 15,
   "id": "6ca41ece",
   "metadata": {},
   "outputs": [],
   "source": [
    "## Self Attention weights for the K, Q and V matrices\n",
    "W_q = torch.randn(d_model, d_k) * 0.3 # Shape (d_model, d_k)\n",
    "W_k = torch.randn(d_model, d_k) * 0.3 # Shape (d_model, d_k)\n",
    "W_v = torch.randn(d_model, d_k) * 0.3 # Shape (d_model, d_k)\n",
    "W_o = torch.randn(d_k, d_model) * 0.3 # Shape (d_k, d_model)"
   ]
  },
  {
   "cell_type": "code",
   "execution_count": 16,
   "id": "9460955e",
   "metadata": {},
   "outputs": [],
   "source": [
    "## Layer Norm weights for both before and after the feed forward network\n",
    "gamma1 = torch.ones(d_model) # Shape (d_model,)\n",
    "beta1 = torch.zeros(d_model) # Shape (d_model,)\n",
    "gamma2 = torch.ones(d_model) # Shape (d_model,)\n",
    "beta2 = torch.zeros(d_model) # Shape (d_model,)"
   ]
  },
  {
   "cell_type": "code",
   "execution_count": 17,
   "id": "c929194d",
   "metadata": {},
   "outputs": [],
   "source": [
    "## Feed Forward Network weights\n",
    "W_ff1 = torch.randn(d_model, hidden_dim) * 0.3 # Shape (d_model, hidden_dim)\n",
    "b_ff1 = torch.randn(hidden_dim) * 0.3 # Shape (hidden_dim,)\n",
    "W_ff2 = torch.randn(hidden_dim, d_model) * 0.3 # Shape (hidden_dim, d_model)\n",
    "b_ff2 = torch.randn(d_model) * 0.3 # Shape (d_model,)"
   ]
  },
  {
   "cell_type": "code",
   "execution_count": 18,
   "id": "d78ba5c4",
   "metadata": {},
   "outputs": [
    {
     "name": "stdout",
     "output_type": "stream",
     "text": [
      "Attention output shape: torch.Size([9, 8])\n",
      "Attention output: tensor([[ 0.0420,  0.1177, -0.1520,  0.1020, -0.0923, -0.3580, -0.2704,  0.3188],\n",
      "        [-0.1931, -0.0459,  0.0348, -0.2076,  0.1689,  0.1606,  0.2770, -0.1112],\n",
      "        [-0.1394, -0.0246,  0.0010, -0.1322,  0.0920,  0.0782,  0.1727, -0.0423],\n",
      "        [-0.1905, -0.0089, -0.0098, -0.1450,  0.1244,  0.0854,  0.2088, -0.0361],\n",
      "        [-0.1461, -0.0080, -0.0061, -0.1069,  0.1072,  0.0867,  0.1692, -0.0402],\n",
      "        [-0.1287,  0.0028,  0.0051, -0.0920,  0.1210,  0.0837,  0.1603, -0.0400],\n",
      "        [-0.1551,  0.0135,  0.0064, -0.0830,  0.1035,  0.0726,  0.1603, -0.0402],\n",
      "        [-0.1783, -0.0072,  0.0260, -0.1135,  0.0913,  0.1007,  0.1822, -0.0851],\n",
      "        [-0.2061,  0.0017,  0.0406, -0.1097,  0.0788,  0.0983,  0.2022, -0.0940]])\n"
     ]
    }
   ],
   "source": [
    "attention_output = selfAttention(input_embeddings, W_q, W_k, W_v, W_o)\n",
    "\n",
    "print(f\"Attention output shape: {attention_output.shape}\")\n",
    "print(f\"Attention output: {attention_output}\")"
   ]
  },
  {
   "cell_type": "code",
   "execution_count": 19,
   "id": "bb66bddb",
   "metadata": {},
   "outputs": [
    {
     "name": "stdout",
     "output_type": "stream",
     "text": [
      "LayerNorm output shape: torch.Size([9, 8])\n",
      "LayerNorm output: tensor([[-1.0499, -0.5177,  0.0803,  1.9196,  0.8206, -1.1656, -0.7152,  0.6278],\n",
      "        [-0.8836,  0.5394, -0.9445, -1.0558,  0.0713,  2.1916,  0.2750, -0.1935],\n",
      "        [-0.7902, -0.6979,  0.5241, -0.4412, -0.2346,  2.4244, -0.0943, -0.6903],\n",
      "        [-1.6947, -0.4349, -0.6654, -0.2505,  0.5893,  1.8928, -0.1331,  0.6964],\n",
      "        [ 0.2632,  0.5326,  1.5188, -0.2581, -0.9253, -0.4430, -1.7550,  1.0667],\n",
      "        [-1.3674,  1.4724,  0.4763,  0.6982,  0.9844, -0.1663, -1.2078, -0.8898],\n",
      "        [-0.6106,  0.1186, -1.4543, -1.0884,  0.9432,  0.7969,  1.6348, -0.3402],\n",
      "        [-0.2899,  0.1425, -1.5062,  0.3317, -0.7530, -0.4298,  2.1546,  0.3500],\n",
      "        [-2.1284,  0.8038,  0.5379, -0.2246,  0.3798,  0.7315,  0.8985, -0.9985]])\n"
     ]
    }
   ],
   "source": [
    "layernorm_output1 = residualPlusLayerNorm(attention_output, input_embeddings, gamma1, beta1)\n",
    "\n",
    "print(f\"LayerNorm output shape: {layernorm_output1.shape}\")\n",
    "print(f\"LayerNorm output: {layernorm_output1}\")"
   ]
  },
  {
   "cell_type": "code",
   "execution_count": 20,
   "id": "e8a25920",
   "metadata": {},
   "outputs": [
    {
     "name": "stdout",
     "output_type": "stream",
     "text": [
      "Feed Forward Network output shape: torch.Size([9, 8])\n",
      "Feed Forward Network output: tensor([[ 0.2579,  0.8045,  0.5444,  1.7155,  0.7242,  0.9203, -0.6189, -0.5029],\n",
      "        [-0.8781, -0.4182,  1.3479,  1.4541,  1.2107,  2.2080,  0.2971, -0.2043],\n",
      "        [-0.1201, -0.5148,  1.7449,  1.2045,  0.1516,  3.6753,  0.6008, -0.0437],\n",
      "        [ 0.4315, -0.3111,  1.3706,  2.3913,  0.7638,  2.6776,  0.1653, -0.3813],\n",
      "        [-0.2345,  0.2486,  0.2702,  0.6519,  1.0916,  1.1160, -0.4263, -0.7526],\n",
      "        [-1.2025,  0.6422, -0.0513,  0.6233,  1.1179,  0.4635, -0.4650, -0.2125],\n",
      "        [-2.1081, -0.5484,  1.0487, -0.7822,  1.2553,  0.9405,  0.3068,  0.3993],\n",
      "        [-0.8725,  0.0732,  1.6564,  0.5992,  1.4034,  0.4075, -0.3222,  0.1004],\n",
      "        [-1.6970, -0.1806,  0.9394, -0.3444,  0.9858,  0.9045,  0.1255,  0.2424]])\n"
     ]
    }
   ],
   "source": [
    "feedforward_output = feedForwardNetwork(layernorm_output1, W_ff1, b_ff1, W_ff2, b_ff2)\n",
    "\n",
    "print(f\"Feed Forward Network output shape: {feedforward_output.shape}\")\n",
    "print(f\"Feed Forward Network output: {feedforward_output}\")"
   ]
  },
  {
   "cell_type": "code",
   "execution_count": 21,
   "id": "8e61e195",
   "metadata": {},
   "outputs": [
    {
     "name": "stdout",
     "output_type": "stream",
     "text": [
      "Final LayerNorm output shape: torch.Size([9, 8])\n",
      "Final LayerNorm output: tensor([[-0.8806, -0.1341,  0.0998,  2.1828,  0.7364, -0.5023, -1.2557, -0.2462],\n",
      "        [-1.4478, -0.3066, -0.1356, -0.1387,  0.3969,  2.2864, -0.0333, -0.6212],\n",
      "        [-0.7774, -0.9119,  0.6368, -0.0329, -0.4094,  2.3409, -0.1472, -0.6989],\n",
      "        [-1.2491, -0.9488, -0.1064,  0.7270,  0.2698,  2.1375, -0.4971, -0.3328],\n",
      "        [-0.2065,  0.5101,  1.4698,  0.1411, -0.0755,  0.4070, -2.3111,  0.0652],\n",
      "        [-1.6405,  1.2223,  0.1898,  0.7377,  1.2149,  0.1117, -1.0923, -0.7436],\n",
      "        [-1.6472, -0.2923, -0.2780, -1.1451,  1.2635,  0.9905,  1.1114, -0.0029],\n",
      "        [-1.9304, -0.2063, -0.2883,  0.6883,  0.3374, -0.5041,  1.8161,  0.0873],\n",
      "        [-2.2997,  0.2920,  0.7896, -0.4025,  0.7245,  0.8821,  0.5255, -0.5115]])\n"
     ]
    }
   ],
   "source": [
    "layernorm_output2 = residualPlusLayerNorm(feedforward_output, layernorm_output1, gamma2, beta2)\n",
    "\n",
    "print(f\"Final LayerNorm output shape: {layernorm_output2.shape}\")\n",
    "print(f\"Final LayerNorm output: {layernorm_output2}\")"
   ]
  },
  {
   "cell_type": "code",
   "execution_count": null,
   "id": "77889b5c",
   "metadata": {},
   "outputs": [
    {
     "name": "stdout",
     "output_type": "stream",
     "text": [
      "LM head weights shape: torch.Size([8, 23])\n",
      "LM head bias shape: torch.Size([23])\n"
     ]
    }
   ],
   "source": [
    "## Weights for the final linear layer to project to vocab size i.e. the language model head\n",
    "W_lm_head = torch.randn(d_model, vocab_size) * 0.3 # Shape (d_model, vocab_size)\n",
    "b_lm_head = torch.randn(vocab_size) * 0.1 # Shape (vocab_size,)\n",
    "\n",
    "print(f\"LM head weights shape: {W_lm_head.shape}\")\n",
    "print(f\"LM head bias shape: {b_lm_head.shape}\")"
   ]
  },
  {
   "cell_type": "code",
   "execution_count": 23,
   "id": "3144ec47",
   "metadata": {},
   "outputs": [
    {
     "name": "stdout",
     "output_type": "stream",
     "text": [
      "Logits shape: torch.Size([9, 23])\n"
     ]
    }
   ],
   "source": [
    "## Passing the final output through the LM head to get logits for each token in the vocabulary\n",
    "logits = torch.matmul(layernorm_output2, W_lm_head) + b_lm_head # Shape (n, vocab_size)\n",
    "\n",
    "print(f\"Logits shape: {logits.shape}\") "
   ]
  },
  {
   "cell_type": "code",
   "execution_count": 24,
   "id": "e372d6d4",
   "metadata": {},
   "outputs": [
    {
     "name": "stdout",
     "output_type": "stream",
     "text": [
      "Probabilities shape: torch.Size([9, 23])\n",
      "Probabilities: tensor([[0.0232, 0.0844, 0.0464, 0.0309, 0.0216, 0.0316, 0.0227, 0.0698, 0.0434,\n",
      "         0.0279, 0.0440, 0.0525, 0.0262, 0.0781, 0.0685, 0.0717, 0.0209, 0.0803,\n",
      "         0.0246, 0.0060, 0.0074, 0.0921, 0.0256],\n",
      "        [0.0092, 0.0709, 0.0117, 0.2183, 0.0219, 0.0365, 0.0161, 0.0270, 0.0756,\n",
      "         0.0544, 0.0258, 0.0056, 0.0184, 0.0131, 0.0419, 0.0680, 0.0134, 0.0044,\n",
      "         0.0241, 0.0583, 0.0941, 0.0789, 0.0125],\n",
      "        [0.0059, 0.0482, 0.0077, 0.0985, 0.0242, 0.0675, 0.0174, 0.0238, 0.1012,\n",
      "         0.0410, 0.0290, 0.0123, 0.0230, 0.0370, 0.0214, 0.0758, 0.0206, 0.0055,\n",
      "         0.0296, 0.0636, 0.0942, 0.1316, 0.0208],\n",
      "        [0.0067, 0.0507, 0.0107, 0.2075, 0.0190, 0.0444, 0.0128, 0.0410, 0.0861,\n",
      "         0.0528, 0.0252, 0.0107, 0.0270, 0.0242, 0.0446, 0.0858, 0.0193, 0.0084,\n",
      "         0.0224, 0.0365, 0.0564, 0.0897, 0.0180],\n",
      "        [0.0173, 0.0506, 0.0128, 0.0049, 0.0117, 0.0671, 0.0111, 0.0625, 0.0215,\n",
      "         0.0567, 0.0315, 0.0422, 0.0239, 0.0502, 0.0065, 0.2446, 0.0029, 0.0281,\n",
      "         0.0490, 0.0198, 0.0196, 0.1398, 0.0256],\n",
      "        [0.0370, 0.2223, 0.0450, 0.0338, 0.0222, 0.0267, 0.0249, 0.0452, 0.0353,\n",
      "         0.0448, 0.0472, 0.0140, 0.0125, 0.0230, 0.0574, 0.0989, 0.0054, 0.0214,\n",
      "         0.0291, 0.0136, 0.0182, 0.1112, 0.0108],\n",
      "        [0.0112, 0.1166, 0.0290, 0.3187, 0.0249, 0.0075, 0.0152, 0.0123, 0.0226,\n",
      "         0.0282, 0.0265, 0.0019, 0.0186, 0.0048, 0.0465, 0.0384, 0.0164, 0.0068,\n",
      "         0.0109, 0.0617, 0.1451, 0.0271, 0.0092],\n",
      "        [0.0176, 0.1056, 0.0925, 0.1540, 0.0589, 0.0123, 0.0783, 0.0176, 0.0225,\n",
      "         0.0152, 0.0466, 0.0097, 0.0181, 0.0176, 0.0858, 0.0144, 0.1007, 0.0316,\n",
      "         0.0117, 0.0102, 0.0197, 0.0416, 0.0177],\n",
      "        [0.0103, 0.2813, 0.0290, 0.0887, 0.0320, 0.0189, 0.0278, 0.0140, 0.0290,\n",
      "         0.0283, 0.0468, 0.0038, 0.0111, 0.0133, 0.0322, 0.0764, 0.0114, 0.0077,\n",
      "         0.0137, 0.0278, 0.0590, 0.1291, 0.0083]])\n"
     ]
    }
   ],
   "source": [
    "## Applying softmax to get probabilities for each token in the vocabulary, where each row represents the probabilities for each word in the vocab for the next token given the previous tokens\n",
    "probabilities = F.softmax(logits, dim=-1)\n",
    "\n",
    "print(f\"Probabilities shape: {probabilities.shape}\")\n",
    "print(f\"Probabilities: {probabilities}\")"
   ]
  }
 ],
 "metadata": {
  "kernelspec": {
   "display_name": "Python 3",
   "language": "python",
   "name": "python3"
  },
  "language_info": {
   "codemirror_mode": {
    "name": "ipython",
    "version": 3
   },
   "file_extension": ".py",
   "mimetype": "text/x-python",
   "name": "python",
   "nbconvert_exporter": "python",
   "pygments_lexer": "ipython3",
   "version": "3.12.5"
  }
 },
 "nbformat": 4,
 "nbformat_minor": 5
}
